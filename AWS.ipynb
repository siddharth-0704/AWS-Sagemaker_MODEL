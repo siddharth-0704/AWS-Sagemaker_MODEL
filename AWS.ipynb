{
 "cells": [
  {
   "cell_type": "code",
   "execution_count": null,
   "id": "9936ece5-6db4-4d60-8951-c5d69a85c9f1",
   "metadata": {},
   "outputs": [],
   "source": [
    "# Download and extract the dataset\n",
    "import urllib.request\n",
    "urllib.request.urlretrieve('https://archive.ics.uci.edu/static/public/53/iris.zip',\n",
    "                           'data.zip')"
   ]
  },
  {
   "cell_type": "code",
   "execution_count": null,
   "id": "2e8379bb-bda5-416b-a83c-e893a030e49e",
   "metadata": {},
   "outputs": [],
   "source": [
    "!mkdir data\n",
    "!unzip data.zip -d data/"
   ]
  },
  {
   "cell_type": "code",
   "execution_count": null,
   "id": "a1e5c54b-a0b0-4c45-abef-b20f9b43c80b",
   "metadata": {},
   "outputs": [],
   "source": [
    "# Import pandas and read the dataset\n",
    "import pandas as pd\n",
    "\n",
    "data = pd.read_csv('data/iris.data', header=None)"
   ]
  },
  {
   "cell_type": "code",
   "execution_count": null,
   "id": "7bf18435-b6ee-41c7-ac3f-ac34f4b08ded",
   "metadata": {},
   "outputs": [],
   "source": [
    "# Convert species to numerical values\n",
    "data[4] = data[4].replace('Iris-setosa', 0)\n",
    "data[4] = data[4].replace('Iris-virginica', 1)\n",
    "data[4] = data[4].replace('Iris-versicolor', 2)"
   ]
  },
  {
   "cell_type": "code",
   "execution_count": null,
   "id": "ee5a2382-8402-4ae9-9e44-c1954840623e",
   "metadata": {},
   "outputs": [],
   "source": [
    "# Shuffle the dataset\n",
    "data = data.sample(frac=1).reset_index(drop=True)\n",
    "\n",
    "# Rearrange columns to place the label first\n",
    "data = data[[4, 0, 1, 2, 3]]\n",
    "\n",
    "# Split the dataset into training and validation sets\n",
    "train_data = data[:120]\n",
    "val_data = data[120:]"
   ]
  },
  {
   "cell_type": "code",
   "execution_count": null,
   "id": "29412fb6-ccf9-4e07-8695-3b474598d927",
   "metadata": {},
   "outputs": [],
   "source": [
    "# Upload training and validation data to S3\n",
    "import boto3\n",
    "\n",
    "bucket_name = \"sagemaker-iris-ml-model\"\n",
    "\n",
    "train_data.to_csv('data.csv', header=False, index=False)\n",
    "key = 'data/train/data'\n",
    "url = 's3://{}/{}'.format(bucket_name, key)\n",
    "boto3.Session().resource('s3').Bucket(bucket_name).Object(key).upload_file('data.csv')\n",
    "\n",
    "val_data.to_csv('data.csv', header=False, index=False)\n",
    "key = 'data/val/data'\n",
    "url = 's3://{}/{}'.format(bucket_name, key)\n",
    "boto3.Session().resource('s3').Bucket(bucket_name).Object(key).upload_file('data.csv')"
   ]
  },
  {
   "cell_type": "code",
   "execution_count": null,
   "id": "f158ddec-228e-4d55-b376-ceb4b4e4b697",
   "metadata": {},
   "outputs": [],
   "source": [
    "# Train the model using SageMaker\n",
    "import sagemaker\n",
    "from sagemaker.amazon.amazon_estimator import get_image_uri\n",
    "from sagemaker import get_execution_role\n",
    "\n",
    "key = 'model/xgb_model'\n",
    "s3_output_location = url = 's3://{}/{}'.format(bucket_name, key)\n",
    "\n",
    "xgb_model = sagemaker.estimator.Estimator(\n",
    "    get_image_uri(boto3.Session().region_name, 'xgboost'),\n",
    "    get_execution_role(),\n",
    "    train_instance_count=1,\n",
    "    train_instance_type='ml.m4.xlarge',\n",
    "    train_volume_size=5,\n",
    "    output_path=s3_output_location,\n",
    "    sagemaker_session=sagemaker.Session()\n",
    ")\n",
    "\n",
    "xgb_model.set_hyperparameters(\n",
    "    max_depth=5,\n",
    "    eta=0.2,\n",
    "    gamma=4,\n",
    "    min_child_weight=6,\n",
    "    silent=0,\n",
    "    objective='multi:softmax',\n",
    "    num_class=3,\n",
    "    num_round=10\n",
    ")\n"
   ]
  },
  {
   "cell_type": "code",
   "execution_count": null,
   "id": "ccb8972e-2894-4236-bd46-c785110fb013",
   "metadata": {},
   "outputs": [],
   "source": [
    "# Prepare data channels\n",
    "train_data = 's3://{}/{}'.format(bucket_name, 'data/train')\n",
    "val_data = 's3://{}/{}'.format(bucket_name, 'data/val')\n",
    "\n",
    "train_channel = sagemaker.session.s3_input(train_data, content_type='text/csv')\n",
    "val_channel = sagemaker.session.s3_input(val_data, content_type='text/csv')\n",
    "\n",
    "data_channel = {'train': train_channel, 'validation': val_channel}"
   ]
  },
  {
   "cell_type": "code",
   "execution_count": null,
   "id": "3da4ebc6-3f2b-4db4-b2af-41e3e505de05",
   "metadata": {},
   "outputs": [],
   "source": [
    "# Fit the model\n",
    "xgb_model.fit(inputs=data_channel)"
   ]
  },
  {
   "cell_type": "code",
   "execution_count": null,
   "id": "585c3d9a-3d8a-4dc1-b4d4-6a9c1195572c",
   "metadata": {},
   "outputs": [],
   "source": [
    "# Deploy the model\n",
    "xgb_predictor = xgb_model.deploy(\n",
    "    initial_instance_count=1,\n",
    "    instance_type='ml.m4.xlarge'\n",
    ")"
   ]
  }
 ],
 "metadata": {
  "kernelspec": {
   "display_name": "Python 3 (ipykernel)",
   "language": "python",
   "name": "python3"
  },
  "language_info": {
   "codemirror_mode": {
    "name": "ipython",
    "version": 3
   },
   "file_extension": ".py",
   "mimetype": "text/x-python",
   "name": "python",
   "nbconvert_exporter": "python",
   "pygments_lexer": "ipython3",
   "version": "3.12.4"
  }
 },
 "nbformat": 4,
 "nbformat_minor": 5
}
